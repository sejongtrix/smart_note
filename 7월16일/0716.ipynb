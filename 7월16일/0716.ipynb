{
 "cells": [
  {
   "cell_type": "code",
   "execution_count": 1,
   "id": "cda15d8c",
   "metadata": {},
   "outputs": [],
   "source": [
    "from datasets import load_dataset\n",
    "\n",
    "dataset = load_dataset(\"wicho/kor_3i4k\")\n",
    "word_list = [item['text'] for item in dataset['train']]"
   ]
  },
  {
   "cell_type": "code",
   "execution_count": 3,
   "id": "7e9001e6",
   "metadata": {},
   "outputs": [
    {
     "name": "stdout",
     "output_type": "stream",
     "text": [
      "저장된 단어 수: 55134개, 임베딩 차원: 1024\n"
     ]
    }
   ],
   "source": [
    "from datasets import load_dataset\n",
    "from sentence_transformers import SentenceTransformer\n",
    "import faiss\n",
    "import numpy as np\n",
    "\n",
    "# 1. 단어 리스트 로드\n",
    "dataset = load_dataset(\"wicho/kor_3i4k\")\n",
    "word_list = [item['text'] for item in dataset['train']]\n",
    "\n",
    "# 2. 임베딩 모델 준비\n",
    "model = SentenceTransformer(\"BAAI/bge-m3\", device=\"cuda\")\n",
    "\n",
    "# 3. 임베딩 생성\n",
    "batch_size = 32\n",
    "embeds = []\n",
    "for i in range(0, len(word_list), batch_size):\n",
    "    batch = word_list[i:i+batch_size]\n",
    "    emb = model.encode(batch, batch_size=batch_size, convert_to_numpy=True, normalize_embeddings=True)\n",
    "    embeds.append(emb)\n",
    "embeds_np = np.vstack(embeds).astype(\"float32\")\n",
    "\n",
    "# 4. FAISS 인덱싱 및 저장\n",
    "dim = embeds_np.shape[1]\n",
    "index = faiss.IndexFlatIP(dim)\n",
    "index.add(embeds_np)\n",
    "faiss.write_index(index, \"korean_words_vector.index\")\n",
    "print(f\"저장된 단어 수: {len(word_list)}개, 임베딩 차원: {dim}\")\n"
   ]
  },
  {
   "cell_type": "code",
   "execution_count": null,
   "id": "bdfe396e",
   "metadata": {},
   "outputs": [
    {
     "name": "stdout",
     "output_type": "stream",
     "text": [
      "친구가 (유사도: 0.910)\n",
      "무슨 친구가  (유사도: 0.828)\n",
      "친구랑도 (유사도: 0.801)\n",
      "저런 친구 (유사도: 0.790)\n"
     ]
    }
   ],
   "source": [
    "import faiss\n",
    "from datasets import load_dataset\n",
    "import numpy as np\n",
    "from sentence_transformers import SentenceTransformer\n",
    "dataset = load_dataset(\"wicho/kor_3i4k\")\n",
    "word_list = [item['text'] for item in dataset['train']]\n",
    "# 2. 임베딩 모델 준비\n",
    "model = SentenceTransformer(\"BAAI/bge-m3\", device=\"cuda\")\n",
    "\n",
    "# 3. FAISS 인덱스 로드\n",
    "index = faiss.read_index(\"korean_words_vector.index\")\n",
    "def find_nearest_words_with_scores(query_word, k=5):\n",
    "    # 쿼리 임베딩\n",
    "    query_emb = model.encode([query_word], normalize_embeddings=True).astype(\"float32\")\n",
    "    # 검색\n",
    "    D, I = index.search(query_emb, k+1)\n",
    "    result_words = []\n",
    "    result_scores = []\n",
    "    for idx, score in zip(I[0], D[0]):\n",
    "        if word_list[idx] != query_word:  # 자기 자신 제외\n",
    "            result_words.append(word_list[idx])\n",
    "            result_scores.append(score)\n",
    "        if len(result_words) == k:\n",
    "            break\n",
    "    return list(zip(result_words, result_scores))\n",
    "\n",
    "search_word = \"친구\"\n",
    "results = find_nearest_words_with_scores(search_word)\n",
    "for word, score in results:\n",
    "    print(f\"{word} (유사도: {score:.3f})\")"
   ]
  },
  {
   "cell_type": "code",
   "execution_count": null,
   "id": "c6dd701e",
   "metadata": {},
   "outputs": [],
   "source": [
    "import os\n",
    "from collections import Counter\n",
    "import pandas as pd\n",
    "from tqdm import tqdm\n",
    "import logging\n",
    "\n",
    "# 로깅 설정\n",
    "logging.basicConfig(\n",
    "    level=logging.INFO,\n",
    "    format='%(asctime)s - %(levelname)s - %(message)s',\n",
    "    handlers=[\n",
    "        logging.FileHandler('word_freq_debug.log'),\n",
    "        logging.StreamHandler()\n",
    "    ]\n",
    ")\n",
    "\n",
    "folder_path = r'C:\\Users\\good1\\Desktop\\여름방학특별프로젝트\\smartnote\\testdataset'\n",
    "word_freq = Counter()\n",
    "\n",
    "try:\n",
    "    file_list = [f for f in os.listdir(folder_path) if f.endswith('.txt')]\n",
    "except FileNotFoundError:\n",
    "    logging.error(f\"폴더를 찾을 수 없습니다: {folder_path}\")\n",
    "    raise\n",
    "\n",
    "logging.info(f\"총 {len(file_list)}개의 .txt 파일을 처리합니다.\")\n",
    "\n",
    "# 직렬 처리 (파일 하나씩 순차 처리)\n",
    "for filename in tqdm(file_list, desc=\"Processing files\", unit=\"file\"):\n",
    "    file_path = os.path.join(folder_path, filename)\n",
    "    try:\n",
    "        with open(file_path, 'r', encoding='utf-8') as f:\n",
    "            for line in f:\n",
    "                words = line.strip().split()\n",
    "                word_freq.update(words)\n",
    "        logging.info(f\"✅ {filename} 처리 완료\")\n",
    "    except Exception as e:\n",
    "        logging.error(f\"❌ {filename} 처리 중 오류 발생: {e}\")\n",
    "\n",
    "# 저장\n",
    "word_freq_df = pd.DataFrame(word_freq.items(), columns=['word', 'count'])\n",
    "word_freq_df = word_freq_df.sort_values(by='count', ascending=False).reset_index(drop=True)\n",
    "\n",
    "\n",
    "print(word_freq_df.head(10))\n"
   ]
  },
  {
   "cell_type": "code",
   "execution_count": 5,
   "id": "5acb054f",
   "metadata": {},
   "outputs": [],
   "source": [
    "import re\n",
    "\n",
    "# 특수문자 제거 함수 (영문, 숫자, 한글만 남김)\n",
    "def clean_word(word):\n",
    "    # 원하는 문자만 남김 (한글, 영어, 숫자, 공백은 필요 없으니 제거)\n",
    "    return re.sub(r'[^가-힣a-zA-Z0-9]', '', word)\n",
    "\n",
    "# 적용\n",
    "word_freq_df['clean_word'] = word_freq_df['word'].astype(str).apply(clean_word)\n",
    "\n",
    "# 소문자 통일 (영어만)\n",
    "word_freq_df['clean_word'] = word_freq_df['clean_word'].str.lower()"
   ]
  },
  {
   "cell_type": "code",
   "execution_count": null,
   "id": "6f7c5492",
   "metadata": {},
   "outputs": [],
   "source": [
    "word_freq_df.drop_duplicates(subset=[word_freq_df.columns[0]], keep='first')"
   ]
  },
  {
   "cell_type": "code",
   "execution_count": null,
   "id": "3206c833",
   "metadata": {},
   "outputs": [],
   "source": [
    "output_file = 'word_frequency.csv'\n",
    "word_freq_df.to_csv(output_file, index=False, encoding='utf-8-sig')\n",
    "logging.info(f\"단어 빈도 계산 완료, 총 단어 종류: {len(word_freq)}\")\n",
    "logging.info(f\"결과를 {output_file}로 저장했습니다.\")"
   ]
  },
  {
   "cell_type": "code",
   "execution_count": 2,
   "id": "2ab7a941",
   "metadata": {},
   "outputs": [
    {
     "name": "stdout",
     "output_type": "stream",
     "text": [
      "(53478998, 2)\n"
     ]
    }
   ],
   "source": [
    "import pandas as pd\n",
    "data = pd.read_csv('word_frequency.csv', encoding='utf-8-sig')\n",
    "print(data.shape)"
   ]
  },
  {
   "cell_type": "code",
   "execution_count": 7,
   "id": "9dfcd3ce",
   "metadata": {},
   "outputs": [],
   "source": [
    "filtered_df = data[data['count'] > 14]"
   ]
  },
  {
   "cell_type": "code",
   "execution_count": 11,
   "id": "65b85476",
   "metadata": {},
   "outputs": [
    {
     "data": {
      "text/plain": [
       "0               다\n",
       "1               왜\n",
       "2               이\n",
       "3              진짜\n",
       "4               더\n",
       "            ...  \n",
       "1754769     같은금액을\n",
       "1754770    기대할게없는\n",
       "1754771     모욕당했다\n",
       "1754772       전사임\n",
       "1754773       봅아준\n",
       "Name: clean_word, Length: 1754774, dtype: object"
      ]
     },
     "execution_count": 11,
     "metadata": {},
     "output_type": "execute_result"
    }
   ],
   "source": [
    "filtered_df['clean_word']"
   ]
  },
  {
   "cell_type": "code",
   "execution_count": 9,
   "id": "bc3fc5d0",
   "metadata": {},
   "outputs": [
    {
     "ename": "RuntimeError",
     "evalue": "Error in void __cdecl faiss::write_index(const struct faiss::Index *,struct faiss::IOWriter *,int) at D:\\bld\\faiss-split_1734665785306\\work\\faiss\\impl\\index_write.cpp:407: Error: 'ret == (size * 4)' failed: write error in korean_news_words_vector.index: 4051 != 7187554304 (No space left on device)",
     "output_type": "error",
     "traceback": [
      "\u001b[1;31m---------------------------------------------------------------------------\u001b[0m",
      "\u001b[1;31mRuntimeError\u001b[0m                              Traceback (most recent call last)",
      "\u001b[1;32m~\\AppData\\Local\\Temp\\ipykernel_20956\\1067276465.py\u001b[0m in \u001b[0;36m?\u001b[1;34m()\u001b[0m\n\u001b[0;32m     21\u001b[0m \u001b[1;31m# 4. FAISS 인덱싱 및 저장\u001b[0m\u001b[1;33m\u001b[0m\u001b[1;33m\u001b[0m\u001b[0m\n\u001b[0;32m     22\u001b[0m \u001b[0mdim\u001b[0m \u001b[1;33m=\u001b[0m \u001b[0membeds_np\u001b[0m\u001b[1;33m.\u001b[0m\u001b[0mshape\u001b[0m\u001b[1;33m[\u001b[0m\u001b[1;36m1\u001b[0m\u001b[1;33m]\u001b[0m\u001b[1;33m\u001b[0m\u001b[1;33m\u001b[0m\u001b[0m\n\u001b[0;32m     23\u001b[0m \u001b[0mindex\u001b[0m \u001b[1;33m=\u001b[0m \u001b[0mfaiss\u001b[0m\u001b[1;33m.\u001b[0m\u001b[0mIndexFlatIP\u001b[0m\u001b[1;33m(\u001b[0m\u001b[0mdim\u001b[0m\u001b[1;33m)\u001b[0m\u001b[1;33m\u001b[0m\u001b[1;33m\u001b[0m\u001b[0m\n\u001b[0;32m     24\u001b[0m \u001b[0mindex\u001b[0m\u001b[1;33m.\u001b[0m\u001b[0madd\u001b[0m\u001b[1;33m(\u001b[0m\u001b[0membeds_np\u001b[0m\u001b[1;33m)\u001b[0m\u001b[1;33m\u001b[0m\u001b[1;33m\u001b[0m\u001b[0m\n\u001b[1;32m---> 25\u001b[1;33m \u001b[0mfaiss\u001b[0m\u001b[1;33m.\u001b[0m\u001b[0mwrite_index\u001b[0m\u001b[1;33m(\u001b[0m\u001b[0mindex\u001b[0m\u001b[1;33m,\u001b[0m \u001b[1;34m\"korean_news_words_vector.index\"\u001b[0m\u001b[1;33m)\u001b[0m\u001b[1;33m\u001b[0m\u001b[1;33m\u001b[0m\u001b[0m\n\u001b[0m\u001b[0;32m     26\u001b[0m \u001b[0mprint\u001b[0m\u001b[1;33m(\u001b[0m\u001b[1;34mf\"저장된 단어 수: {len(word_list)}개, 임베딩 차원: {dim}\"\u001b[0m\u001b[1;33m)\u001b[0m\u001b[1;33m\u001b[0m\u001b[1;33m\u001b[0m\u001b[0m\n",
      "\u001b[1;32mc:\\Users\\good1\\anaconda3\\envs\\neuralforecast_real\\lib\\site-packages\\faiss\\swigfaiss.py\u001b[0m in \u001b[0;36m?\u001b[1;34m(*args)\u001b[0m\n\u001b[0;32m  12746\u001b[0m \u001b[1;32mdef\u001b[0m \u001b[0mwrite_index\u001b[0m\u001b[1;33m(\u001b[0m\u001b[1;33m*\u001b[0m\u001b[0margs\u001b[0m\u001b[1;33m)\u001b[0m\u001b[1;33m:\u001b[0m\u001b[1;33m\u001b[0m\u001b[1;33m\u001b[0m\u001b[0m\n\u001b[1;32m> 12747\u001b[1;33m     \u001b[1;32mreturn\u001b[0m \u001b[0m_swigfaiss\u001b[0m\u001b[1;33m.\u001b[0m\u001b[0mwrite_index\u001b[0m\u001b[1;33m(\u001b[0m\u001b[1;33m*\u001b[0m\u001b[0margs\u001b[0m\u001b[1;33m)\u001b[0m\u001b[1;33m\u001b[0m\u001b[1;33m\u001b[0m\u001b[0m\n\u001b[0m",
      "\u001b[1;31mRuntimeError\u001b[0m: Error in void __cdecl faiss::write_index(const struct faiss::Index *,struct faiss::IOWriter *,int) at D:\\bld\\faiss-split_1734665785306\\work\\faiss\\impl\\index_write.cpp:407: Error: 'ret == (size * 4)' failed: write error in korean_news_words_vector.index: 4051 != 7187554304 (No space left on device)"
     ]
    }
   ],
   "source": [
    "from datasets import load_dataset\n",
    "from sentence_transformers import SentenceTransformer\n",
    "import faiss\n",
    "import numpy as np\n",
    "\n",
    "# 1. 단어 리스트 로드\n",
    "word_list = filtered_df['clean_word'].tolist()\n",
    "\n",
    "# 2. 임베딩 모델 준비\n",
    "model = SentenceTransformer(\"BAAI/bge-m3\", device=\"cuda\")\n",
    "\n",
    "# 3. 임베딩 생성\n",
    "batch_size = 32\n",
    "embeds = []\n",
    "for i in range(0, len(word_list), batch_size):\n",
    "    batch = word_list[i:i+batch_size]\n",
    "    emb = model.encode(batch, batch_size=batch_size, convert_to_numpy=True, normalize_embeddings=True)\n",
    "    embeds.append(emb)\n",
    "embeds_np = np.vstack(embeds).astype(\"float32\")\n",
    "\n",
    "# 4. FAISS 인덱싱 및 저장\n",
    "dim = embeds_np.shape[1]\n",
    "index = faiss.IndexFlatIP(dim)\n",
    "index.add(embeds_np)\n",
    "faiss.write_index(index, \"korean_news_words_vector.index\")\n",
    "print(f\"저장된 단어 수: {len(word_list)}개, 임베딩 차원: {dim}\")\n"
   ]
  },
  {
   "cell_type": "code",
   "execution_count": 10,
   "id": "b80cd88f",
   "metadata": {},
   "outputs": [
    {
     "name": "stdout",
     "output_type": "stream",
     "text": [
      "저장된 단어 수: 1754774개, 임베딩 차원: 1024\n"
     ]
    }
   ],
   "source": [
    "faiss.write_index(index, \"korean_news_words_vector.index\")\n",
    "print(f\"저장된 단어 수: {len(word_list)}개, 임베딩 차원: {dim}\")"
   ]
  },
  {
   "cell_type": "code",
   "execution_count": 35,
   "id": "898db4a3",
   "metadata": {},
   "outputs": [
    {
     "name": "stdout",
     "output_type": "stream",
     "text": [
      "레베카 (유사도: 0.680)\n",
      "라바 (유사도: 0.635)\n",
      "레카는 (유사도: 0.633)\n",
      "레버가 (유사도: 0.632)\n",
      "레카 (유사도: 0.627)\n",
      "리베카가 (유사도: 0.622)\n",
      "모험의 (유사도: 0.621)\n",
      "리베카를 (유사도: 0.621)\n",
      "리베카 (유사도: 0.617)\n",
      "레가 (유사도: 0.611)\n",
      "레카가 (유사도: 0.610)\n",
      "리베카는 (유사도: 0.609)\n",
      "레기다 (유사도: 0.607)\n",
      "레야 (유사도: 0.607)\n",
      "레카기사가 (유사도: 0.601)\n",
      "렉카새끼들 (유사도: 0.601)\n",
      "무험의 (유사도: 0.598)\n",
      "레카를 (유사도: 0.595)\n",
      "레카충들 (유사도: 0.594)\n",
      "모험이 (유사도: 0.594)\n"
     ]
    }
   ],
   "source": [
    "import faiss\n",
    "from datasets import load_dataset\n",
    "import numpy as np\n",
    "from sentence_transformers import SentenceTransformer\n",
    "\n",
    "# 1. 단어 리스트 로드\n",
    "word_list = filtered_df['clean_word'].tolist()\n",
    "# 2. 임베딩 모델 준비\n",
    "model = SentenceTransformer(\"BAAI/bge-m3\", device=\"cuda\")\n",
    "\n",
    "# 3. FAISS 인덱스 로드\n",
    "index = faiss.read_index(\"korean_news_words_vector.index\")\n",
    "def find_nearest_words_with_scores(query_word, k=20):\n",
    "    # 쿼리 임베딩\n",
    "    query_emb = model.encode([query_word], normalize_embeddings=True).astype(\"float32\")\n",
    "    # 검색\n",
    "    D, I = index.search(query_emb, k+1)\n",
    "    result_words = []\n",
    "    result_scores = []\n",
    "    for idx, score in zip(I[0], D[0]):\n",
    "        if word_list[idx] != query_word:  # 자기 자신 제외\n",
    "            result_words.append(word_list[idx])\n",
    "            result_scores.append(score)\n",
    "        if len(result_words) == k:\n",
    "            break\n",
    "    return list(zip(result_words, result_scores))\n",
    "\n",
    "search_word = \"레바의모험\"\n",
    "results = find_nearest_words_with_scores(search_word)\n",
    "for word, score in results:\n",
    "    print(f\"{word} (유사도: {score:.3f})\")"
   ]
  },
  {
   "cell_type": "code",
   "execution_count": null,
   "id": "6035c5f3",
   "metadata": {},
   "outputs": [
    {
     "data": {
      "image/png": "[encoded data removed]",
      "text/plain": [
       "<Figure size 1000x600 with 1 Axes>"
      ]
     },
     "metadata": {},
     "output_type": "display_data"
    }
   ],
   "source": [
    "import matplotlib.pyplot as plt\n",
    "\n",
    "plt.figure(figsize=(10, 6))\n",
    "data['count'].hist(bins=100, log=True)  # log=True는 skew 줄이기 위해 사용\n",
    "plt.xlabel('count')\n",
    "plt.ylabel('Number of clean_words')\n",
    "plt.title('Distribution of count values')\n",
    "plt.show()\n"
   ]
  }
 ],
 "metadata": {
  "kernelspec": {
   "display_name": "neuralforecast_real",
   "language": "python",
   "name": "python3"
  },
  "language_info": {
   "codemirror_mode": {
    "name": "ipython",
    "version": 3
   },
   "file_extension": ".py",
   "mimetype": "text/x-python",
   "name": "python",
   "nbconvert_exporter": "python",
   "pygments_lexer": "ipython3",
   "version": "3.10.16"
  }
 },
 "nbformat": 4,
 "nbformat_minor": 5
}
